{
 "cells": [
  {
   "cell_type": "code",
   "id": "initial_id",
   "metadata": {
    "collapsed": true,
    "ExecuteTime": {
     "end_time": "2025-10-09T19:55:16.737391Z",
     "start_time": "2025-10-09T19:55:16.683288Z"
    }
   },
   "source": [
    "import pandas as pd\n",
    "import numpy as np\n",
    "import matplotlib.pyplot as plt\n",
    "import seaborn as sns\n",
    "from sklearn.preprocessing import MinMaxScaler, LabelEncoder\n",
    "from sklearn.impute import SimpleImputer\n",
    "from sklearn.feature_selection import SelectKBest, chi2\n",
    "from sklearn.feature_selection import RFE\n",
    "from sklearn.linear_model import LogisticRegression\n",
    "from sklearn.preprocessing import StandardScaler\n",
    "from sklearn.linear_model import Lasso\n",
    "from sklearn.feature_selection import VarianceThreshold, SelectFromModel\n",
    "from sklearn.model_selection import train_test_split\n",
    "import os\n",
    "from pathlib import Path\n",
    "\n",
    "def inspect_single_file(file_path, patient_id=0):\n",
    "    print(\"=\" * 60)\n",
    "    print(f\"STEP 1: INSPECTING PATIENT FILE {patient_id}\")\n",
    "    print(\"=\" * 60)\n",
    "\n",
    "    try:\n",
    "        # Read the CSV file\n",
    "        df = pd.read_csv(file_path)\n",
    "\n",
    "        # Basic information\n",
    "        print(f\" File: {os.path.basename(file_path)}\")\n",
    "        print(f\" Shape: {df.shape} (rows: {df.shape[0]}, columns: {df.shape[1]})\")\n",
    "        print(f\" Time range: {df['time'].min():.2f} to {df['time'].max():.2f} seconds\")\n",
    "\n",
    "        # Column information\n",
    "        print(f\" Columns: {list(df.columns)}\")\n",
    "        print(f\" Data types:\")\n",
    "        print(df.dtypes)\n",
    "\n",
    "        # Check for missing values\n",
    "        print(f\" Missing values per column:\")\n",
    "        missing_data = df.isnull().sum()\n",
    "        print(missing_data[missing_data > 0])\n",
    "\n",
    "        # Basic statistics\n",
    "        print(f\" Basic statistics:\")\n",
    "        print(df.describe())\n",
    "\n",
    "        # Show first few rows\n",
    "        print(f\" First 5 rows:\")\n",
    "        print(df.head())\n",
    "\n",
    "        return df\n",
    "\n",
    "    except Exception as e:\n",
    "        return None\n",
    "\n",
    "# Let's test with one file first\n",
    "patient_files = list(Path(\"100f\").glob(\"*.csv\"))\n",
    "if patient_files:\n",
    "    sample_df = inspect_single_file(patient_files[0], patient_id=0)"
   ],
   "outputs": [
    {
     "name": "stdout",
     "output_type": "stream",
     "text": [
      "============================================================\n",
      "STEP 1: INSPECTING PATIENT FILE 0\n",
      "============================================================\n",
      " File: Run1.csv\n",
      " Shape: (15354, 5) (rows: 15354, columns: 5)\n",
      " Time range: 0.00 to 153.53 seconds\n",
      " Columns: ['time', 'paw', 'flow', 'vol', 'pmus']\n",
      " Data types:\n",
      "time    float64\n",
      "paw     float64\n",
      "flow    float64\n",
      "vol     float64\n",
      "pmus    float64\n",
      "dtype: object\n",
      " Missing values per column:\n",
      "Series([], dtype: int64)\n",
      " Basic statistics:\n",
      "               time           paw          flow           vol          pmus\n",
      "count  15354.000000  15354.000000  15354.000000  15354.000000  15354.000000\n",
      "mean      76.765000      9.284987     -0.000142      0.084936     -0.831763\n",
      "std       44.324624      2.490251      0.386601      0.132017      1.374469\n",
      "min        0.000000      5.849335     -0.805350     -0.024151     -5.473509\n",
      "25%       38.382500      8.300838     -0.104110     -0.001411     -1.173121\n",
      "50%       76.765000      8.417437     -0.022147      0.022635     -0.087534\n",
      "75%      115.147500      8.985041      0.006336      0.116948     -0.030532\n",
      "max      153.530000     18.240479      1.192740      0.516133      0.000000\n",
      " First 5 rows:\n",
      "   time       paw      flow       vol      pmus\n",
      "0  0.00  8.267437  0.004503  0.000000  0.000000\n",
      "1  0.01  8.235019 -0.025890 -0.000002 -0.000394\n",
      "2  0.02  8.232418  0.005742 -0.000012 -0.001571\n",
      "3  0.03  8.181379  0.005054 -0.000027 -0.003511\n",
      "4  0.04  8.179352  0.004899 -0.000043 -0.006185\n"
     ]
    }
   ],
   "execution_count": 4
  },
  {
   "metadata": {},
   "cell_type": "code",
   "outputs": [],
   "execution_count": null,
   "source": "",
   "id": "df3b7782635e2c7e"
  }
 ],
 "metadata": {
  "kernelspec": {
   "display_name": "Python 3",
   "language": "python",
   "name": "python3"
  },
  "language_info": {
   "codemirror_mode": {
    "name": "ipython",
    "version": 2
   },
   "file_extension": ".py",
   "mimetype": "text/x-python",
   "name": "python",
   "nbconvert_exporter": "python",
   "pygments_lexer": "ipython2",
   "version": "2.7.6"
  }
 },
 "nbformat": 4,
 "nbformat_minor": 5
}
